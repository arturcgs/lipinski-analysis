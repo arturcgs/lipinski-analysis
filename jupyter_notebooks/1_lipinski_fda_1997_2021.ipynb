{
 "cells": [
  {
   "attachments": {},
   "cell_type": "markdown",
   "id": "88eab2e4",
   "metadata": {},
   "source": [
    "## Lipinski's Rule of Five (Ro5) - FDA approved drugs (1997 - 2021)\n",
    "\n",
    "This is an exercise to assess the validity of the Lipinski's Rule of Five (Ro5) of approved drugs (2004-2021). It's the first step of the Exploratory Data Analysis (EDA) and other further analysis along the way. This piece of code was done with the help of @arturcgs"
   ]
  },
  {
   "cell_type": "markdown",
   "id": "1c4b810e",
   "metadata": {},
   "source": [
    "We begin by setting up the enviroment (teachopencadd) and <b>importing libraries</b> used for the analysis"
   ]
  },
  {
   "cell_type": "code",
   "execution_count": 1,
   "id": "abfa7132",
   "metadata": {},
   "outputs": [],
   "source": [
    "#importing databases\n",
    "from rdkit import Chem\n",
    "from rdkit.Chem import Draw\n",
    "from rdkit.Chem.Draw import IPythonConsole\n",
    "from rdkit.Chem import Descriptors, Draw, PandasTools\n",
    "import pandas as pd\n",
    "import numpy as np\n",
    "import re"
   ]
  },
  {
   "cell_type": "markdown",
   "id": "60380245",
   "metadata": {},
   "source": [
    "After importing the libraries we begin to treat the datasets:"
   ]
  },
  {
   "cell_type": "markdown",
   "id": "a9efaa04",
   "metadata": {},
   "source": [
    "### 1) Data retrieved from Drug Bank (manual downloaded)"
   ]
  },
  {
   "cell_type": "markdown",
   "id": "7bfb3d78",
   "metadata": {},
   "source": [
    "#### Firstly, after retrieving the dataset of approved drugs, manually downloaded at the drugbank servers, we treat the dataset\n",
    "We can both work with the SDF file or read a ready-to-work csv. For this piece of code, we use the csv file. \n",
    "\n",
    "After reading the file, we select only useful columns and select the \"Name\" column, transforming the drugs' names to lower case making it easier to work if we need to compare the names."
   ]
  },
  {
   "cell_type": "code",
   "execution_count": 2,
   "id": "ba55f795",
   "metadata": {},
   "outputs": [
    {
     "data": {
      "text/plain": [
       "Index(['DrugBank ID', 'Name', 'CAS Number', 'Drug Groups', 'InChIKey', 'InChI',\n",
       "       'SMILES', 'Formula', 'KEGG Compound ID', 'KEGG Drug ID',\n",
       "       'PubChem Compound ID', 'PubChem Substance ID', 'ChEBI ID', 'ChEMBL ID',\n",
       "       'HET ID', 'ChemSpider ID', 'BindingDB ID'],\n",
       "      dtype='object')"
      ]
     },
     "execution_count": 2,
     "metadata": {},
     "output_type": "execute_result"
    }
   ],
   "source": [
    "## Working with the csv database\n",
    "approved_drugs = pd.read_csv(\"../data/RAW_datasets/RAW_structures_approved_drug_bank.csv\")\n",
    "approved_drugs.columns #checking colum names"
   ]
  },
  {
   "cell_type": "code",
   "execution_count": 3,
   "id": "eaaa9f9c",
   "metadata": {},
   "outputs": [
    {
     "name": "stdout",
     "output_type": "stream",
     "text": [
      "(2715,)\n",
      "(2715, 4)\n"
     ]
    }
   ],
   "source": [
    "approved_drugs = approved_drugs[[\"Name\", \"DrugBank ID\", \"Drug Groups\", \"SMILES\"]] #selecting only useful columns\n",
    "approved_drugs.head(5)\n",
    "\n",
    "#letting the drug names be all LOWER\n",
    "approved_drugs[\"Name\"] = approved_drugs[\"Name\"].str.lower() \n",
    "approved_drugs[\"active\"] = approved_drugs[\"Name\"]\n",
    "\n",
    "approved_drugs = approved_drugs.drop(\"Name\", axis = 1) #removing the \"name variable\"\n",
    "approved_drugs.head(5)\n",
    "\n",
    "print(approved_drugs[\"active\"].shape)\n",
    "print(approved_drugs.drop_duplicates(subset = \"active\", keep = \"first\").shape) #we dont have any duplicates"
   ]
  },
  {
   "cell_type": "markdown",
   "id": "53681e44",
   "metadata": {},
   "source": [
    "### 2) Data retrieved from FDA acess data (manual downloaded)"
   ]
  },
  {
   "cell_type": "markdown",
   "id": "d1a0b59f",
   "metadata": {},
   "source": [
    "In order to assess the Ro5 validity we need to see which drugs were approved between 1997 (Lipinski's rule first publication) and 2021. Unfortunately the DrugBank dataset do not include the approval year for each molecule. \n",
    "\n",
    "A dataset retrieved from https://www.fda.gov/drugs/drug-approvals-and-databases/compilation-cder-new-molecular-entity-nme-drug-and-new-biologic-approvals contains the New Chemical and Biological Entities approved by year. We can use the information to gather the SMILES.\n",
    "\n",
    "After downloading manually the dataset, we begin to treat and manipulate it for further data analysis."
   ]
  },
  {
   "cell_type": "code",
   "execution_count": 4,
   "id": "5e2c990a",
   "metadata": {},
   "outputs": [
    {
     "data": {
      "text/html": [
       "<div>\n",
       "<style scoped>\n",
       "    .dataframe tbody tr th:only-of-type {\n",
       "        vertical-align: middle;\n",
       "    }\n",
       "\n",
       "    .dataframe tbody tr th {\n",
       "        vertical-align: top;\n",
       "    }\n",
       "\n",
       "    .dataframe thead th {\n",
       "        text-align: right;\n",
       "    }\n",
       "</style>\n",
       "<table border=\"1\" class=\"dataframe\">\n",
       "  <thead>\n",
       "    <tr style=\"text-align: right;\">\n",
       "      <th></th>\n",
       "      <th>active_ingredient_moiety</th>\n",
       "      <th>nda_bla</th>\n",
       "      <th>approval_year</th>\n",
       "    </tr>\n",
       "  </thead>\n",
       "  <tbody>\n",
       "    <tr>\n",
       "      <th>0</th>\n",
       "      <td>troglitazone</td>\n",
       "      <td>NDA</td>\n",
       "      <td>1997</td>\n",
       "    </tr>\n",
       "    <tr>\n",
       "      <th>1</th>\n",
       "      <td>imiquimod</td>\n",
       "      <td>NDA</td>\n",
       "      <td>1997</td>\n",
       "    </tr>\n",
       "    <tr>\n",
       "      <th>2</th>\n",
       "      <td>tiludronate disodium</td>\n",
       "      <td>NDA</td>\n",
       "      <td>1997</td>\n",
       "    </tr>\n",
       "    <tr>\n",
       "      <th>3</th>\n",
       "      <td>anagrelide hydrochloride</td>\n",
       "      <td>NDA</td>\n",
       "      <td>1997</td>\n",
       "    </tr>\n",
       "    <tr>\n",
       "      <th>4</th>\n",
       "      <td>nelfinavir mesylate</td>\n",
       "      <td>NDA</td>\n",
       "      <td>1997</td>\n",
       "    </tr>\n",
       "  </tbody>\n",
       "</table>\n",
       "</div>"
      ],
      "text/plain": [
       "   active_ingredient_moiety nda_bla  approval_year\n",
       "0              troglitazone     NDA           1997\n",
       "1                 imiquimod     NDA           1997\n",
       "2      tiludronate disodium     NDA           1997\n",
       "3  anagrelide hydrochloride     NDA           1997\n",
       "4       nelfinavir mesylate     NDA           1997"
      ]
     },
     "execution_count": 4,
     "metadata": {},
     "output_type": "execute_result"
    }
   ],
   "source": [
    "# This dataset was retrieved from: \n",
    "# https://www.fda.gov/drugs/drug-approvals-and-databases/compilation-cder-new-molecular-entity-nme-drug-and-new-biologic-approvals\n",
    "fda_total = pd.read_excel(\"../data/RAW_datasets/RAW_FDA_approved_1985_2021.xlsx\")\n",
    "fda_total = fda_total[[\"Active Ingredient/Moiety\", \"NDA/BLA\", \"Approval Year\"]]\n",
    "\n",
    "# filtering for further lipinski analysis YEAR >= 1997 ANN ONLY NDA (NOT BIOLOGICAL)\n",
    "fda_lipinski  = fda_total.loc[(fda_total[\"NDA/BLA\"] == \"NDA\") & (fda_total[\"Approval Year\"] >= 1997)].reset_index(drop = True)\n",
    "\n",
    "# cleaning the names of the dataset\n",
    "fda_lipinski.rename(columns={'Active Ingredient/Moiety': 'active_ingredient_moiety', \n",
    "                             'NDA/BLA': 'nda_bla', 'Approval Year': 'approval_year'}, inplace=True) #renaming columns\n",
    "\n",
    "# one thing worth mentioning is the salt is always after the active ingredient (almost always) so lets separate the two columns\n",
    "fda_lipinski.head(5)"
   ]
  },
  {
   "cell_type": "markdown",
   "id": "9b024cd4",
   "metadata": {},
   "source": [
    "We can observe above that the dataset contains basically the active ingredient, the nda or bla (biological) and the approval year. \n",
    "<b>We select all the active ingredients that meets the criteria: NDA (not biological) and approval year (1997-2021).</b>"
   ]
  },
  {
   "cell_type": "markdown",
   "id": "c5d5249c",
   "metadata": {},
   "source": [
    "We are left with TWO CHOICES: Merging the DrugBank dataset with the FDA approved using the active ingredient as key merger OR we can build a piece of code that searches the SMILE using the active name. This will be further down the process.\n",
    "\n",
    "If we want to search the SMILE using the name we must, first of all, separate the salt of the proper active active name. "
   ]
  },
  {
   "cell_type": "code",
   "execution_count": 5,
   "id": "a21eb50c",
   "metadata": {},
   "outputs": [
    {
     "name": "stdout",
     "output_type": "stream",
     "text": [
      "(663, 5)\n"
     ]
    }
   ],
   "source": [
    "# we split the active ingredients into active and respective salt\n",
    "fda_lipinski[[\"active\", \"salt\"]] = fda_lipinski[\"active_ingredient_moiety\"].str.split(expand = True, n = 1)\n",
    "print(fda_lipinski.shape) #so we have 663 approved drugs in this period (1997-2021) according to FDA database"
   ]
  },
  {
   "cell_type": "markdown",
   "id": "c0f1daa9",
   "metadata": {},
   "source": [
    "We need to remove the duplicates. We also noticed one thing: some of the rows have lots of active ingredients and have <b>\"packaged together\"</b> we need to <b>REMOVE</b> them."
   ]
  },
  {
   "cell_type": "markdown",
   "id": "da063b8d",
   "metadata": {},
   "source": [
    "### 2.1) Searching SMILES through active name"
   ]
  },
  {
   "cell_type": "markdown",
   "id": "bceace3a",
   "metadata": {},
   "source": [
    "I wrote the dataframe to csv and explored it in excel in order to get a feeling of what is going on.. so we found that we need:\n",
    "1) to strip the name from the salts<p>\n",
    "2) to remove the radioactives (mainly with numbers like F 18, etc)<p>\n",
    "3) to remove the ASSOCIATIONS (the comma is present on these rows and sometimes the expression \"(co-packaged)\")"
   ]
  },
  {
   "cell_type": "code",
   "execution_count": 6,
   "id": "88ee43c0",
   "metadata": {},
   "outputs": [
    {
     "name": "stdout",
     "output_type": "stream",
     "text": [
      "(639, 5)\n",
      "(593, 5)\n"
     ]
    },
    {
     "data": {
      "text/plain": [
       "(593, 5)"
      ]
     },
     "execution_count": 6,
     "metadata": {},
     "output_type": "execute_result"
    }
   ],
   "source": [
    "#first we remove the radioactive structures\n",
    "fda_lipinski = fda_lipinski[~fda_lipinski[\"active_ingredient_moiety\"].str.contains(r'-?\\d+')] \n",
    "print(fda_lipinski.shape)\n",
    "\n",
    "#then we remove the associations \"and & ,\"\n",
    "fda_lipinski = fda_lipinski[~fda_lipinski[\"active_ingredient_moiety\"].str.contains(\"and\")]\n",
    "fda_lipinski = fda_lipinski[~fda_lipinski[\"active_ingredient_moiety\"].str.contains(\",\")]\n",
    "fda_lipinski = fda_lipinski[~fda_lipinski[\"active_ingredient_moiety\"].str.contains(\"co-packaged\")]\n",
    "\n",
    "print(fda_lipinski.shape)\n",
    "\n",
    "#dropping the duplicates\n",
    "fda_lipinski.drop_duplicates().shape"
   ]
  },
  {
   "cell_type": "markdown",
   "id": "0a44fede",
   "metadata": {},
   "source": [
    "We can see that we are left with a dataframe with ~420 unique drugs. Lets see out of that how many we automatically search for the respective SMILES."
   ]
  },
  {
   "cell_type": "code",
   "execution_count": 7,
   "id": "46ad1b21",
   "metadata": {},
   "outputs": [
    {
     "data": {
      "text/html": [
       "<div>\n",
       "<style scoped>\n",
       "    .dataframe tbody tr th:only-of-type {\n",
       "        vertical-align: middle;\n",
       "    }\n",
       "\n",
       "    .dataframe tbody tr th {\n",
       "        vertical-align: top;\n",
       "    }\n",
       "\n",
       "    .dataframe thead th {\n",
       "        text-align: right;\n",
       "    }\n",
       "</style>\n",
       "<table border=\"1\" class=\"dataframe\">\n",
       "  <thead>\n",
       "    <tr style=\"text-align: right;\">\n",
       "      <th></th>\n",
       "      <th>active_ingredient_moiety</th>\n",
       "      <th>nda_bla</th>\n",
       "      <th>approval_year</th>\n",
       "      <th>active</th>\n",
       "    </tr>\n",
       "  </thead>\n",
       "  <tbody>\n",
       "    <tr>\n",
       "      <th>0</th>\n",
       "      <td>troglitazone</td>\n",
       "      <td>NDA</td>\n",
       "      <td>1997</td>\n",
       "      <td>troglitazone</td>\n",
       "    </tr>\n",
       "    <tr>\n",
       "      <th>1</th>\n",
       "      <td>imiquimod</td>\n",
       "      <td>NDA</td>\n",
       "      <td>1997</td>\n",
       "      <td>imiquimod</td>\n",
       "    </tr>\n",
       "    <tr>\n",
       "      <th>2</th>\n",
       "      <td>tiludronate disodium</td>\n",
       "      <td>NDA</td>\n",
       "      <td>1997</td>\n",
       "      <td>tiludronate</td>\n",
       "    </tr>\n",
       "    <tr>\n",
       "      <th>3</th>\n",
       "      <td>anagrelide hydrochloride</td>\n",
       "      <td>NDA</td>\n",
       "      <td>1997</td>\n",
       "      <td>anagrelide</td>\n",
       "    </tr>\n",
       "    <tr>\n",
       "      <th>4</th>\n",
       "      <td>nelfinavir mesylate</td>\n",
       "      <td>NDA</td>\n",
       "      <td>1997</td>\n",
       "      <td>nelfinavir</td>\n",
       "    </tr>\n",
       "  </tbody>\n",
       "</table>\n",
       "</div>"
      ],
      "text/plain": [
       "   active_ingredient_moiety nda_bla  approval_year        active\n",
       "0              troglitazone     NDA           1997  troglitazone\n",
       "1                 imiquimod     NDA           1997     imiquimod\n",
       "2      tiludronate disodium     NDA           1997   tiludronate\n",
       "3  anagrelide hydrochloride     NDA           1997    anagrelide\n",
       "4       nelfinavir mesylate     NDA           1997    nelfinavir"
      ]
     },
     "execution_count": 7,
     "metadata": {},
     "output_type": "execute_result"
    }
   ],
   "source": [
    "# I manually created a list of salts useful to strip the names of the active drugs in the dataset:\n",
    "list_of_salts = [\"bromide\", \"hydrobromide\", \"trisodium\", \"disodium\", \"sodium\", \"chloride\",\"hydrochloride\", \n",
    "                 \"dihydrochloride\",  \"acetate\", \"phosphate\", \"diphosphate\", \"triphosphate\", \"monophosphate\", \"hexahydrate\", \n",
    "                 \"succinate\", \"mesylate\", \"dimesylate\", \"tosylate\", \"fumarate\", \"oxalate\", \"besilate\", \"mepesuccinate\", \"malate\",\n",
    "                \"sulfate\", \"citrate\", \"bisulfate\", \"difumarate\", \"maleate\", \"benzoate\",\n",
    "                \"calcium\", \"tartrate\", \"nitrate\"]\n",
    "\n",
    "\n",
    "# THIS PART OF THE CODE IS AWESOME, THE SOLUTION IS FROM \n",
    "# https://discuss.dizzycoding.com/python-remove-stop-words-from-pandas-dataframe/\n",
    "# It basically remove anything on the \"active_ingredient_moiety\"\n",
    "fda_lipinski['active_stripped'] = fda_lipinski['active_ingredient_moiety'].apply(lambda x: ' '.join([word for word in x.split() if word not in (list_of_salts)]))\n",
    "\n",
    "fda_lipinski = fda_lipinski[[\"active_ingredient_moiety\", \"nda_bla\", \"approval_year\", \"active\"]]\n",
    "# The database with the salt stripped from the active ingredient\n",
    "fda_lipinski.head(5)"
   ]
  },
  {
   "cell_type": "markdown",
   "id": "6280a38f",
   "metadata": {},
   "source": [
    "### 2.1.1) Tranforming molecule active name into SMILES structure"
   ]
  },
  {
   "cell_type": "code",
   "execution_count": 8,
   "id": "ccaeae5b",
   "metadata": {},
   "outputs": [],
   "source": [
    "# This is a function we stumble upon (https://stackoverflow.com/questions/54930121/converting-molecule-name-to-smiles)\n",
    "# Importing the requested libraries\n",
    "from urllib.request import urlopen\n",
    "from urllib.parse import quote\n",
    "\n",
    "# Creating the function\n",
    "def CIRconvert(ids):\n",
    "    try:\n",
    "        url = 'http://cactus.nci.nih.gov/chemical/structure/' + quote(ids) + '/smiles'\n",
    "        ans = urlopen(url).read().decode('utf8')\n",
    "        return ans\n",
    "    except:\n",
    "        return 'Did not work'"
   ]
  },
  {
   "cell_type": "code",
   "execution_count": 9,
   "id": "dd64c957",
   "metadata": {},
   "outputs": [],
   "source": [
    "# Creating the active names list and empty list to storage the smiles gathered\n",
    "active_names_list  = list(fda_lipinski[\"active\"])\n",
    "smiles = []\n",
    "\n",
    "for molecule in active_names_list:\n",
    "    smiles.append(CIRconvert(molecule))"
   ]
  },
  {
   "cell_type": "code",
   "execution_count": 10,
   "id": "c6c16e30",
   "metadata": {
    "scrolled": false
   },
   "outputs": [
    {
     "data": {
      "text/plain": [
       "279"
      ]
     },
     "execution_count": 10,
     "metadata": {},
     "output_type": "execute_result"
    }
   ],
   "source": [
    "# Transforming into the list into a dataframe\n",
    "smiles_collected = {\"molecule\": active_names_list, \"smiles\": smiles}\n",
    "smiles_collected = pd.DataFrame(data = smiles_collected)\n",
    "\n",
    "# How many did not work?\n",
    "smiles_collected.loc[smiles_collected[\"smiles\"] == \"Did not work\"].count()[0]\n",
    "\n",
    "# Wow 281/593*100 =  47% did not work, unfortunately, not a very effective way of gathering the SMILES"
   ]
  },
  {
   "cell_type": "code",
   "execution_count": 11,
   "id": "71fa2fda",
   "metadata": {},
   "outputs": [
    {
     "name": "stdout",
     "output_type": "stream",
     "text": [
      "Percentage not collected: 47.05%\n"
     ]
    }
   ],
   "source": [
    "print(f'Percentage not collected: {(smiles_collected.loc[smiles_collected[\"smiles\"] == \"Did not work\"].count()[0]/593)*100:.2f}%')"
   ]
  },
  {
   "cell_type": "markdown",
   "id": "961316f5",
   "metadata": {},
   "source": [
    "### 2.2) Merging the DB database with FDA dataset"
   ]
  },
  {
   "cell_type": "markdown",
   "id": "6cd9d556",
   "metadata": {},
   "source": [
    "After some treatment in section 2.1, we are left with ~312 structures and now we need the SMILES of each of them.\n",
    "After trying to collect the SMILES using only the name of the active, only 67% were responsive to the \"Cactus Identifier\" (https://cactus.nci.nih.gov/chemical/structure) using the `CIRconvert function`\n",
    "\n",
    "So now, we are going to try doing some merging with the drugbank dataset of all approved drugs (~2715)"
   ]
  },
  {
   "cell_type": "code",
   "execution_count": 12,
   "id": "2ba7f28c",
   "metadata": {},
   "outputs": [
    {
     "data": {
      "text/html": [
       "<div>\n",
       "<style scoped>\n",
       "    .dataframe tbody tr th:only-of-type {\n",
       "        vertical-align: middle;\n",
       "    }\n",
       "\n",
       "    .dataframe tbody tr th {\n",
       "        vertical-align: top;\n",
       "    }\n",
       "\n",
       "    .dataframe thead th {\n",
       "        text-align: right;\n",
       "    }\n",
       "</style>\n",
       "<table border=\"1\" class=\"dataframe\">\n",
       "  <thead>\n",
       "    <tr style=\"text-align: right;\">\n",
       "      <th></th>\n",
       "      <th>active_ingredient_moiety</th>\n",
       "      <th>nda_bla</th>\n",
       "      <th>approval_year</th>\n",
       "      <th>active</th>\n",
       "    </tr>\n",
       "  </thead>\n",
       "  <tbody>\n",
       "    <tr>\n",
       "      <th>0</th>\n",
       "      <td>troglitazone</td>\n",
       "      <td>NDA</td>\n",
       "      <td>1997</td>\n",
       "      <td>troglitazone</td>\n",
       "    </tr>\n",
       "    <tr>\n",
       "      <th>1</th>\n",
       "      <td>imiquimod</td>\n",
       "      <td>NDA</td>\n",
       "      <td>1997</td>\n",
       "      <td>imiquimod</td>\n",
       "    </tr>\n",
       "    <tr>\n",
       "      <th>2</th>\n",
       "      <td>tiludronate disodium</td>\n",
       "      <td>NDA</td>\n",
       "      <td>1997</td>\n",
       "      <td>tiludronate</td>\n",
       "    </tr>\n",
       "    <tr>\n",
       "      <th>3</th>\n",
       "      <td>anagrelide hydrochloride</td>\n",
       "      <td>NDA</td>\n",
       "      <td>1997</td>\n",
       "      <td>anagrelide</td>\n",
       "    </tr>\n",
       "    <tr>\n",
       "      <th>4</th>\n",
       "      <td>nelfinavir mesylate</td>\n",
       "      <td>NDA</td>\n",
       "      <td>1997</td>\n",
       "      <td>nelfinavir</td>\n",
       "    </tr>\n",
       "  </tbody>\n",
       "</table>\n",
       "</div>"
      ],
      "text/plain": [
       "   active_ingredient_moiety nda_bla  approval_year        active\n",
       "0              troglitazone     NDA           1997  troglitazone\n",
       "1                 imiquimod     NDA           1997     imiquimod\n",
       "2      tiludronate disodium     NDA           1997   tiludronate\n",
       "3  anagrelide hydrochloride     NDA           1997    anagrelide\n",
       "4       nelfinavir mesylate     NDA           1997    nelfinavir"
      ]
     },
     "execution_count": 12,
     "metadata": {},
     "output_type": "execute_result"
    }
   ],
   "source": [
    "fda_lipinski.head(5)"
   ]
  },
  {
   "cell_type": "code",
   "execution_count": 13,
   "id": "322b889b",
   "metadata": {},
   "outputs": [
    {
     "data": {
      "text/html": [
       "<div>\n",
       "<style scoped>\n",
       "    .dataframe tbody tr th:only-of-type {\n",
       "        vertical-align: middle;\n",
       "    }\n",
       "\n",
       "    .dataframe tbody tr th {\n",
       "        vertical-align: top;\n",
       "    }\n",
       "\n",
       "    .dataframe thead th {\n",
       "        text-align: right;\n",
       "    }\n",
       "</style>\n",
       "<table border=\"1\" class=\"dataframe\">\n",
       "  <thead>\n",
       "    <tr style=\"text-align: right;\">\n",
       "      <th></th>\n",
       "      <th>DrugBank ID</th>\n",
       "      <th>Drug Groups</th>\n",
       "      <th>SMILES</th>\n",
       "      <th>active</th>\n",
       "    </tr>\n",
       "  </thead>\n",
       "  <tbody>\n",
       "    <tr>\n",
       "      <th>0</th>\n",
       "      <td>DB00006</td>\n",
       "      <td>approved; investigational</td>\n",
       "      <td>CC[C@H](C)[C@H](NC(=O)[C@H](CCC(O)=O)NC(=O)[C@...</td>\n",
       "      <td>bivalirudin</td>\n",
       "    </tr>\n",
       "    <tr>\n",
       "      <th>1</th>\n",
       "      <td>DB00007</td>\n",
       "      <td>approved; investigational</td>\n",
       "      <td>CCNC(=O)[C@@H]1CCCN1C(=O)[C@H](CCCNC(N)=N)NC(=...</td>\n",
       "      <td>leuprolide</td>\n",
       "    </tr>\n",
       "    <tr>\n",
       "      <th>2</th>\n",
       "      <td>DB00014</td>\n",
       "      <td>approved</td>\n",
       "      <td>CC(C)C[C@H](NC(=O)[C@@H](COC(C)(C)C)NC(=O)[C@H...</td>\n",
       "      <td>goserelin</td>\n",
       "    </tr>\n",
       "  </tbody>\n",
       "</table>\n",
       "</div>"
      ],
      "text/plain": [
       "  DrugBank ID                Drug Groups  \\\n",
       "0     DB00006  approved; investigational   \n",
       "1     DB00007  approved; investigational   \n",
       "2     DB00014                   approved   \n",
       "\n",
       "                                              SMILES       active  \n",
       "0  CC[C@H](C)[C@H](NC(=O)[C@H](CCC(O)=O)NC(=O)[C@...  bivalirudin  \n",
       "1  CCNC(=O)[C@@H]1CCCN1C(=O)[C@H](CCCNC(N)=N)NC(=...   leuprolide  \n",
       "2  CC(C)C[C@H](NC(=O)[C@@H](COC(C)(C)C)NC(=O)[C@H...    goserelin  "
      ]
     },
     "execution_count": 13,
     "metadata": {},
     "output_type": "execute_result"
    }
   ],
   "source": [
    "approved_drugs.head(3)"
   ]
  },
  {
   "cell_type": "code",
   "execution_count": 14,
   "id": "add2e2f8",
   "metadata": {},
   "outputs": [
    {
     "name": "stdout",
     "output_type": "stream",
     "text": [
      "<class 'pandas.core.frame.DataFrame'>\n",
      "Int64Index: 593 entries, 0 to 592\n",
      "Data columns (total 7 columns):\n",
      " #   Column                    Non-Null Count  Dtype \n",
      "---  ------                    --------------  ----- \n",
      " 0   active_ingredient_moiety  593 non-null    object\n",
      " 1   nda_bla                   593 non-null    object\n",
      " 2   approval_year             593 non-null    int64 \n",
      " 3   active                    593 non-null    object\n",
      " 4   DrugBank ID               521 non-null    object\n",
      " 5   Drug Groups               521 non-null    object\n",
      " 6   SMILES                    514 non-null    object\n",
      "dtypes: int64(1), object(6)\n",
      "memory usage: 37.1+ KB\n"
     ]
    }
   ],
   "source": [
    "fda_drugbank_merged = pd.merge(fda_lipinski, approved_drugs, how=\"left\", on = \"active\")\n",
    "fda_drugbank_merged.info()"
   ]
  },
  {
   "cell_type": "markdown",
   "id": "718c605c",
   "metadata": {},
   "source": [
    " Ok so this method is way more effective, we got 514/593 = `86% of the structures` were succefully merged, in contrast with the 63% with the function `SMILES from name (CIRconvert)`. We will check each structure individually later on. For now we are going to run the 14% of the SMILES not found in DB database."
   ]
  },
  {
   "cell_type": "code",
   "execution_count": 15,
   "id": "bc48639c",
   "metadata": {},
   "outputs": [
    {
     "data": {
      "text/html": [
       "<div>\n",
       "<style scoped>\n",
       "    .dataframe tbody tr th:only-of-type {\n",
       "        vertical-align: middle;\n",
       "    }\n",
       "\n",
       "    .dataframe tbody tr th {\n",
       "        vertical-align: top;\n",
       "    }\n",
       "\n",
       "    .dataframe thead th {\n",
       "        text-align: right;\n",
       "    }\n",
       "</style>\n",
       "<table border=\"1\" class=\"dataframe\">\n",
       "  <thead>\n",
       "    <tr style=\"text-align: right;\">\n",
       "      <th></th>\n",
       "      <th>active_ingredient_moiety</th>\n",
       "      <th>nda_bla</th>\n",
       "      <th>approval_year</th>\n",
       "      <th>active</th>\n",
       "      <th>DrugBank ID</th>\n",
       "      <th>Drug Groups</th>\n",
       "      <th>SMILES</th>\n",
       "    </tr>\n",
       "  </thead>\n",
       "  <tbody>\n",
       "    <tr>\n",
       "      <th>0</th>\n",
       "      <td>troglitazone</td>\n",
       "      <td>NDA</td>\n",
       "      <td>1997</td>\n",
       "      <td>troglitazone</td>\n",
       "      <td>DB00197</td>\n",
       "      <td>approved; investigational; withdrawn</td>\n",
       "      <td>CC1=C(C)C2=C(CCC(C)(COC3=CC=C(CC4SC(=O)NC4=O)C...</td>\n",
       "    </tr>\n",
       "    <tr>\n",
       "      <th>1</th>\n",
       "      <td>imiquimod</td>\n",
       "      <td>NDA</td>\n",
       "      <td>1997</td>\n",
       "      <td>imiquimod</td>\n",
       "      <td>DB00724</td>\n",
       "      <td>approved; investigational</td>\n",
       "      <td>CC(C)CN1C=NC2=C1C1=C(C=CC=C1)N=C2N</td>\n",
       "    </tr>\n",
       "    <tr>\n",
       "      <th>3</th>\n",
       "      <td>anagrelide hydrochloride</td>\n",
       "      <td>NDA</td>\n",
       "      <td>1997</td>\n",
       "      <td>anagrelide</td>\n",
       "      <td>DB00261</td>\n",
       "      <td>approved</td>\n",
       "      <td>ClC1=CC=C2N=C3NC(=O)CN3CC2=C1Cl</td>\n",
       "    </tr>\n",
       "  </tbody>\n",
       "</table>\n",
       "</div>"
      ],
      "text/plain": [
       "   active_ingredient_moiety nda_bla  approval_year        active DrugBank ID  \\\n",
       "0              troglitazone     NDA           1997  troglitazone     DB00197   \n",
       "1                 imiquimod     NDA           1997     imiquimod     DB00724   \n",
       "3  anagrelide hydrochloride     NDA           1997    anagrelide     DB00261   \n",
       "\n",
       "                            Drug Groups  \\\n",
       "0  approved; investigational; withdrawn   \n",
       "1             approved; investigational   \n",
       "3                              approved   \n",
       "\n",
       "                                              SMILES  \n",
       "0  CC1=C(C)C2=C(CCC(C)(COC3=CC=C(CC4SC(=O)NC4=O)C...  \n",
       "1                 CC(C)CN1C=NC2=C1C1=C(C=CC=C1)N=C2N  \n",
       "3                    ClC1=CC=C2N=C3NC(=O)CN3CC2=C1Cl  "
      ]
     },
     "execution_count": 15,
     "metadata": {},
     "output_type": "execute_result"
    }
   ],
   "source": [
    "fda_drugbank_dropna = fda_drugbank_merged.dropna()\n",
    "fda_drugbank_dropna.head(3)\n",
    "# We will leave only the ones that actually got the SMILES"
   ]
  },
  {
   "cell_type": "code",
   "execution_count": 16,
   "id": "bdbdae9f",
   "metadata": {},
   "outputs": [
    {
     "data": {
      "text/html": [
       "<div>\n",
       "<style scoped>\n",
       "    .dataframe tbody tr th:only-of-type {\n",
       "        vertical-align: middle;\n",
       "    }\n",
       "\n",
       "    .dataframe tbody tr th {\n",
       "        vertical-align: top;\n",
       "    }\n",
       "\n",
       "    .dataframe thead th {\n",
       "        text-align: right;\n",
       "    }\n",
       "</style>\n",
       "<table border=\"1\" class=\"dataframe\">\n",
       "  <thead>\n",
       "    <tr style=\"text-align: right;\">\n",
       "      <th></th>\n",
       "      <th>active_ingredient_moiety</th>\n",
       "      <th>nda_bla</th>\n",
       "      <th>approval_year</th>\n",
       "      <th>active</th>\n",
       "      <th>DrugBank ID</th>\n",
       "      <th>Drug Groups</th>\n",
       "      <th>SMILES</th>\n",
       "    </tr>\n",
       "  </thead>\n",
       "  <tbody>\n",
       "    <tr>\n",
       "      <th>0</th>\n",
       "      <td>tiludronate disodium</td>\n",
       "      <td>NDA</td>\n",
       "      <td>1997</td>\n",
       "      <td>tiludronate</td>\n",
       "      <td>NaN</td>\n",
       "      <td>NaN</td>\n",
       "      <td>NaN</td>\n",
       "    </tr>\n",
       "    <tr>\n",
       "      <th>1</th>\n",
       "      <td>ardeparin sodium</td>\n",
       "      <td>NDA</td>\n",
       "      <td>1997</td>\n",
       "      <td>ardeparin</td>\n",
       "      <td>DB00407</td>\n",
       "      <td>approved; investigational; withdrawn</td>\n",
       "      <td>NaN</td>\n",
       "    </tr>\n",
       "    <tr>\n",
       "      <th>2</th>\n",
       "      <td>mibefradil dihydrochloride</td>\n",
       "      <td>NDA</td>\n",
       "      <td>1997</td>\n",
       "      <td>mibefradil</td>\n",
       "      <td>NaN</td>\n",
       "      <td>NaN</td>\n",
       "      <td>NaN</td>\n",
       "    </tr>\n",
       "    <tr>\n",
       "      <th>3</th>\n",
       "      <td>lepirudin</td>\n",
       "      <td>NDA</td>\n",
       "      <td>1998</td>\n",
       "      <td>lepirudin</td>\n",
       "      <td>NaN</td>\n",
       "      <td>NaN</td>\n",
       "      <td>NaN</td>\n",
       "    </tr>\n",
       "  </tbody>\n",
       "</table>\n",
       "</div>"
      ],
      "text/plain": [
       "     active_ingredient_moiety nda_bla  approval_year       active DrugBank ID  \\\n",
       "0        tiludronate disodium     NDA           1997  tiludronate         NaN   \n",
       "1            ardeparin sodium     NDA           1997    ardeparin     DB00407   \n",
       "2  mibefradil dihydrochloride     NDA           1997   mibefradil         NaN   \n",
       "3                   lepirudin     NDA           1998    lepirudin         NaN   \n",
       "\n",
       "                            Drug Groups SMILES  \n",
       "0                                   NaN    NaN  \n",
       "1  approved; investigational; withdrawn    NaN  \n",
       "2                                   NaN    NaN  \n",
       "3                                   NaN    NaN  "
      ]
     },
     "execution_count": 16,
     "metadata": {},
     "output_type": "execute_result"
    }
   ],
   "source": [
    "# For now we will only look at the dropped ones and search using the names\n",
    "fda_drugbank_dropped = fda_drugbank_merged[fda_drugbank_merged[\"SMILES\"].isna()].reset_index(drop=True)\n",
    "fda_drugbank_dropped.head(4)"
   ]
  },
  {
   "cell_type": "code",
   "execution_count": 17,
   "id": "14b11e5f",
   "metadata": {},
   "outputs": [],
   "source": [
    "# Creating the active names list and empty list to storage the smiles gathered\n",
    "active_names_list_dropped  = list(fda_drugbank_dropped[\"active\"])\n",
    "smiles = []\n",
    "\n",
    "for molecule in active_names_list_dropped:\n",
    "    smiles.append(CIRconvert(molecule))"
   ]
  },
  {
   "cell_type": "code",
   "execution_count": 18,
   "id": "e07f017c",
   "metadata": {},
   "outputs": [
    {
     "name": "stdout",
     "output_type": "stream",
     "text": [
      "(79, 2)\n"
     ]
    },
    {
     "data": {
      "text/html": [
       "<div>\n",
       "<style scoped>\n",
       "    .dataframe tbody tr th:only-of-type {\n",
       "        vertical-align: middle;\n",
       "    }\n",
       "\n",
       "    .dataframe tbody tr th {\n",
       "        vertical-align: top;\n",
       "    }\n",
       "\n",
       "    .dataframe thead th {\n",
       "        text-align: right;\n",
       "    }\n",
       "</style>\n",
       "<table border=\"1\" class=\"dataframe\">\n",
       "  <thead>\n",
       "    <tr style=\"text-align: right;\">\n",
       "      <th></th>\n",
       "      <th>active</th>\n",
       "      <th>smiles_gathered</th>\n",
       "    </tr>\n",
       "  </thead>\n",
       "  <tbody>\n",
       "    <tr>\n",
       "      <th>0</th>\n",
       "      <td>tiludronate</td>\n",
       "      <td>[Na+].[Na+].O[P]([O-])(=O)C(Sc1ccc(Cl)cc1)[P](...</td>\n",
       "    </tr>\n",
       "    <tr>\n",
       "      <th>1</th>\n",
       "      <td>ardeparin</td>\n",
       "      <td>CC(=O)NC1C(O)OC(CO[S](O)(=O)=O)C(OC2OC(C(OC3OC...</td>\n",
       "    </tr>\n",
       "    <tr>\n",
       "      <th>2</th>\n",
       "      <td>mibefradil</td>\n",
       "      <td>COCC(=O)O[C@]1(CCN(C)CCCc2[nH]c3ccccc3n2)CCc4c...</td>\n",
       "    </tr>\n",
       "    <tr>\n",
       "      <th>3</th>\n",
       "      <td>lepirudin</td>\n",
       "      <td>CC[C@H](C)[C@H](NC(=O)[C@H](CS)NC(=O)[C@H](CCC...</td>\n",
       "    </tr>\n",
       "    <tr>\n",
       "      <th>4</th>\n",
       "      <td>risedronate</td>\n",
       "      <td>OC(Cc1cccnc1)([P](O)(O)=O)[P](O)(O)=O</td>\n",
       "    </tr>\n",
       "    <tr>\n",
       "      <th>...</th>\n",
       "      <td>...</td>\n",
       "      <td>...</td>\n",
       "    </tr>\n",
       "    <tr>\n",
       "      <th>74</th>\n",
       "      <td>casimersen</td>\n",
       "      <td>Did not work</td>\n",
       "    </tr>\n",
       "    <tr>\n",
       "      <th>75</th>\n",
       "      <td>dasiglucagon</td>\n",
       "      <td>Did not work</td>\n",
       "    </tr>\n",
       "    <tr>\n",
       "      <th>76</th>\n",
       "      <td>pegcetacoplan</td>\n",
       "      <td>Did not work</td>\n",
       "    </tr>\n",
       "    <tr>\n",
       "      <th>77</th>\n",
       "      <td>vosoritide</td>\n",
       "      <td>Did not work</td>\n",
       "    </tr>\n",
       "    <tr>\n",
       "      <th>78</th>\n",
       "      <td>inclisiran</td>\n",
       "      <td>Did not work</td>\n",
       "    </tr>\n",
       "  </tbody>\n",
       "</table>\n",
       "<p>79 rows × 2 columns</p>\n",
       "</div>"
      ],
      "text/plain": [
       "           active                                    smiles_gathered\n",
       "0     tiludronate  [Na+].[Na+].O[P]([O-])(=O)C(Sc1ccc(Cl)cc1)[P](...\n",
       "1       ardeparin  CC(=O)NC1C(O)OC(CO[S](O)(=O)=O)C(OC2OC(C(OC3OC...\n",
       "2      mibefradil  COCC(=O)O[C@]1(CCN(C)CCCc2[nH]c3ccccc3n2)CCc4c...\n",
       "3       lepirudin  CC[C@H](C)[C@H](NC(=O)[C@H](CS)NC(=O)[C@H](CCC...\n",
       "4     risedronate              OC(Cc1cccnc1)([P](O)(O)=O)[P](O)(O)=O\n",
       "..            ...                                                ...\n",
       "74     casimersen                                       Did not work\n",
       "75   dasiglucagon                                       Did not work\n",
       "76  pegcetacoplan                                       Did not work\n",
       "77     vosoritide                                       Did not work\n",
       "78     inclisiran                                       Did not work\n",
       "\n",
       "[79 rows x 2 columns]"
      ]
     },
     "execution_count": 18,
     "metadata": {},
     "output_type": "execute_result"
    }
   ],
   "source": [
    "smiles_gathered = {\"active\":active_names_list_dropped,\"smiles_gathered\":smiles}\n",
    "smiles_gathered = pd.DataFrame(smiles_gathered)\n",
    "print(smiles_gathered.shape)\n",
    "smiles_gathered\n",
    "\n",
    "# Getting the SMILES back to the fda_drugbank_dropped dataset"
   ]
  },
  {
   "cell_type": "code",
   "execution_count": 19,
   "id": "4d584d76",
   "metadata": {},
   "outputs": [],
   "source": [
    "fda_drugbank_dropped = pd.merge(fda_drugbank_dropped, smiles_gathered, how =\"left\", on = \"active\")"
   ]
  },
  {
   "cell_type": "code",
   "execution_count": 20,
   "id": "f4e48b6f",
   "metadata": {},
   "outputs": [
    {
     "data": {
      "text/html": [
       "<div>\n",
       "<style scoped>\n",
       "    .dataframe tbody tr th:only-of-type {\n",
       "        vertical-align: middle;\n",
       "    }\n",
       "\n",
       "    .dataframe tbody tr th {\n",
       "        vertical-align: top;\n",
       "    }\n",
       "\n",
       "    .dataframe thead th {\n",
       "        text-align: right;\n",
       "    }\n",
       "</style>\n",
       "<table border=\"1\" class=\"dataframe\">\n",
       "  <thead>\n",
       "    <tr style=\"text-align: right;\">\n",
       "      <th></th>\n",
       "      <th>active_ingredient_moiety</th>\n",
       "      <th>nda_bla</th>\n",
       "      <th>approval_year</th>\n",
       "      <th>active</th>\n",
       "      <th>DrugBank ID</th>\n",
       "      <th>Drug Groups</th>\n",
       "      <th>SMILES</th>\n",
       "    </tr>\n",
       "  </thead>\n",
       "  <tbody>\n",
       "    <tr>\n",
       "      <th>0</th>\n",
       "      <td>tiludronate disodium</td>\n",
       "      <td>NDA</td>\n",
       "      <td>1997</td>\n",
       "      <td>tiludronate</td>\n",
       "      <td>NaN</td>\n",
       "      <td>NaN</td>\n",
       "      <td>[Na+].[Na+].O[P]([O-])(=O)C(Sc1ccc(Cl)cc1)[P](...</td>\n",
       "    </tr>\n",
       "    <tr>\n",
       "      <th>1</th>\n",
       "      <td>ardeparin sodium</td>\n",
       "      <td>NDA</td>\n",
       "      <td>1997</td>\n",
       "      <td>ardeparin</td>\n",
       "      <td>DB00407</td>\n",
       "      <td>approved; investigational; withdrawn</td>\n",
       "      <td>CC(=O)NC1C(O)OC(CO[S](O)(=O)=O)C(OC2OC(C(OC3OC...</td>\n",
       "    </tr>\n",
       "    <tr>\n",
       "      <th>2</th>\n",
       "      <td>mibefradil dihydrochloride</td>\n",
       "      <td>NDA</td>\n",
       "      <td>1997</td>\n",
       "      <td>mibefradil</td>\n",
       "      <td>NaN</td>\n",
       "      <td>NaN</td>\n",
       "      <td>COCC(=O)O[C@]1(CCN(C)CCCc2[nH]c3ccccc3n2)CCc4c...</td>\n",
       "    </tr>\n",
       "    <tr>\n",
       "      <th>3</th>\n",
       "      <td>lepirudin</td>\n",
       "      <td>NDA</td>\n",
       "      <td>1998</td>\n",
       "      <td>lepirudin</td>\n",
       "      <td>NaN</td>\n",
       "      <td>NaN</td>\n",
       "      <td>CC[C@H](C)[C@H](NC(=O)[C@H](CS)NC(=O)[C@H](CCC...</td>\n",
       "    </tr>\n",
       "  </tbody>\n",
       "</table>\n",
       "</div>"
      ],
      "text/plain": [
       "     active_ingredient_moiety nda_bla  approval_year       active DrugBank ID  \\\n",
       "0        tiludronate disodium     NDA           1997  tiludronate         NaN   \n",
       "1            ardeparin sodium     NDA           1997    ardeparin     DB00407   \n",
       "2  mibefradil dihydrochloride     NDA           1997   mibefradil         NaN   \n",
       "3                   lepirudin     NDA           1998    lepirudin         NaN   \n",
       "\n",
       "                            Drug Groups  \\\n",
       "0                                   NaN   \n",
       "1  approved; investigational; withdrawn   \n",
       "2                                   NaN   \n",
       "3                                   NaN   \n",
       "\n",
       "                                              SMILES  \n",
       "0  [Na+].[Na+].O[P]([O-])(=O)C(Sc1ccc(Cl)cc1)[P](...  \n",
       "1  CC(=O)NC1C(O)OC(CO[S](O)(=O)=O)C(OC2OC(C(OC3OC...  \n",
       "2  COCC(=O)O[C@]1(CCN(C)CCCc2[nH]c3ccccc3n2)CCc4c...  \n",
       "3  CC[C@H](C)[C@H](NC(=O)[C@H](CS)NC(=O)[C@H](CCC...  "
      ]
     },
     "execution_count": 20,
     "metadata": {},
     "output_type": "execute_result"
    }
   ],
   "source": [
    "fda_drugbank_dropped[\"SMILES\"] = fda_drugbank_dropped[\"smiles_gathered\"]\n",
    "fda_drugbank_dropped = fda_drugbank_dropped.iloc[:,:-1]\n",
    "fda_drugbank_dropped.head(4)"
   ]
  },
  {
   "cell_type": "code",
   "execution_count": 21,
   "id": "2b5214e7",
   "metadata": {},
   "outputs": [],
   "source": [
    "fda_approved = pd.concat([fda_drugbank_dropna, fda_drugbank_dropped], axis = 0)\n",
    "fda_approved = fda_approved.reset_index(drop = True)"
   ]
  },
  {
   "cell_type": "code",
   "execution_count": 22,
   "id": "1f512db1",
   "metadata": {},
   "outputs": [
    {
     "data": {
      "text/plain": [
       "(601, 7)"
      ]
     },
     "execution_count": 22,
     "metadata": {},
     "output_type": "execute_result"
    }
   ],
   "source": [
    "fda_approved.shape"
   ]
  },
  {
   "cell_type": "code",
   "execution_count": 23,
   "id": "e4dc82ac",
   "metadata": {},
   "outputs": [],
   "source": [
    "# Creating an file\n",
    "fda_approved.to_csv(\"../data/manually_curated_datasets/fda_approved_1997_2021_with_incomplete_smiles.csv\")"
   ]
  },
  {
   "cell_type": "markdown",
   "id": "d551532c",
   "metadata": {},
   "source": [
    "## Second step:"
   ]
  },
  {
   "cell_type": "markdown",
   "id": "b7fffc14",
   "metadata": {},
   "source": [
    "Now, we load the database in the xlsx format. The database was converted to excel and carefully curated: each of the SMILES double checked, most of the salts removed and was done by GHMS and ACGS."
   ]
  },
  {
   "cell_type": "code",
   "execution_count": 24,
   "id": "b8b5e44b",
   "metadata": {},
   "outputs": [],
   "source": [
    "# We read the raw data\n",
    "drugs = pd.read_excel(\"../data/manually_curated_datasets/fda_approved_1997_2021_with_all_smiles.xlsx\", sheet_name = \"fda_approved_97_21\")\n",
    "\n",
    "# Selecting the dataframe without the index that came from the excel file\n",
    "drugs = drugs.iloc[:,1:]"
   ]
  },
  {
   "cell_type": "markdown",
   "id": "e439c54f",
   "metadata": {},
   "source": [
    "We now perform a filter for the dataset retaining only not biological or polymer drugs:"
   ]
  },
  {
   "cell_type": "code",
   "execution_count": 25,
   "id": "c10e6377",
   "metadata": {},
   "outputs": [],
   "source": [
    "filters = drugs[\"Drug Groups\"].str.contains(pat = \"biological|polymer\")"
   ]
  },
  {
   "cell_type": "code",
   "execution_count": 26,
   "id": "321a6951",
   "metadata": {},
   "outputs": [
    {
     "data": {
      "text/plain": [
       "(566, 7)"
      ]
     },
     "execution_count": 26,
     "metadata": {},
     "output_type": "execute_result"
    }
   ],
   "source": [
    "drugs = drugs[~filters].reset_index(drop = True)\n",
    "drugs.shape"
   ]
  },
  {
   "cell_type": "code",
   "execution_count": 27,
   "id": "961aad3b",
   "metadata": {},
   "outputs": [
    {
     "name": "stdout",
     "output_type": "stream",
     "text": [
      "We are left with: (566, 7) molecules in our dataset after removing the biologicas and polymers\n"
     ]
    }
   ],
   "source": [
    "print(f'We are left with: {drugs.shape} molecules in our dataset after removing the biologicas and polymers')"
   ]
  },
  {
   "cell_type": "markdown",
   "id": "04d2b123",
   "metadata": {},
   "source": [
    "Now we remove the investigational and withdrawn from the group!"
   ]
  },
  {
   "cell_type": "code",
   "execution_count": 28,
   "id": "83f28229",
   "metadata": {},
   "outputs": [
    {
     "name": "stdout",
     "output_type": "stream",
     "text": [
      "We are left with: (565, 7) molecules in our dataset after removing the withdrawn\n"
     ]
    }
   ],
   "source": [
    "drugs = drugs[~(drugs[\"Drug Groups\"] == \"investigational; withdrawn\")]\n",
    "print(f'We are left with: {drugs.shape} molecules in our dataset after removing the withdrawn')"
   ]
  },
  {
   "cell_type": "code",
   "execution_count": 29,
   "id": "4d3eeb6f",
   "metadata": {},
   "outputs": [],
   "source": [
    "drugs.to_csv(\"../data/manually_curated_datasets/fda_approved_1997_2021_only_small_molecules.csv\")"
   ]
  }
 ],
 "metadata": {
  "kernelspec": {
   "display_name": "Python 3 (ipykernel)",
   "language": "python",
   "name": "python3"
  },
  "language_info": {
   "codemirror_mode": {
    "name": "ipython",
    "version": 3
   },
   "file_extension": ".py",
   "mimetype": "text/x-python",
   "name": "python",
   "nbconvert_exporter": "python",
   "pygments_lexer": "ipython3",
   "version": "3.8.13"
  }
 },
 "nbformat": 4,
 "nbformat_minor": 5
}
