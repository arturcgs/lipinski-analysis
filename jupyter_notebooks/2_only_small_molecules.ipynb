{
 "cells": [
  {
   "cell_type": "markdown",
   "id": "d148b622",
   "metadata": {},
   "source": [
    "## Double Check! We only need to gather the small molecules\n",
    "\n",
    "We retrieved a .csv from drug bank containing only the DrugBank IDs of Small Molecules! So we do not need to worry about manually curating the biological ones because we removed it in the first step (1_lipinski_fda_1997_2021)\n",
    "\n",
    "First we import the pandas library since we're going to need only this for this data wrangling."
   ]
  },
  {
   "cell_type": "code",
   "execution_count": 1,
   "id": "7790824e",
   "metadata": {},
   "outputs": [],
   "source": [
    "import pandas as pd"
   ]
  },
  {
   "cell_type": "markdown",
   "id": "d0661411",
   "metadata": {},
   "source": [
    "We load the `drug_bank_small_molecules` dataset from our local folder."
   ]
  },
  {
   "cell_type": "code",
   "execution_count": 2,
   "id": "376d600e",
   "metadata": {},
   "outputs": [
    {
     "data": {
      "text/html": [
       "<div>\n",
       "<style scoped>\n",
       "    .dataframe tbody tr th:only-of-type {\n",
       "        vertical-align: middle;\n",
       "    }\n",
       "\n",
       "    .dataframe tbody tr th {\n",
       "        vertical-align: top;\n",
       "    }\n",
       "\n",
       "    .dataframe thead th {\n",
       "        text-align: right;\n",
       "    }\n",
       "</style>\n",
       "<table border=\"1\" class=\"dataframe\">\n",
       "  <thead>\n",
       "    <tr style=\"text-align: right;\">\n",
       "      <th></th>\n",
       "      <th>DrugBank ID</th>\n",
       "      <th>Name</th>\n",
       "      <th>Drug Type</th>\n",
       "    </tr>\n",
       "  </thead>\n",
       "  <tbody>\n",
       "    <tr>\n",
       "      <th>0</th>\n",
       "      <td>DB00006</td>\n",
       "      <td>Bivalirudin</td>\n",
       "      <td>SmallMoleculeDrug</td>\n",
       "    </tr>\n",
       "    <tr>\n",
       "      <th>1</th>\n",
       "      <td>DB00007</td>\n",
       "      <td>Leuprolide</td>\n",
       "      <td>SmallMoleculeDrug</td>\n",
       "    </tr>\n",
       "    <tr>\n",
       "      <th>2</th>\n",
       "      <td>DB00014</td>\n",
       "      <td>Goserelin</td>\n",
       "      <td>SmallMoleculeDrug</td>\n",
       "    </tr>\n",
       "    <tr>\n",
       "      <th>3</th>\n",
       "      <td>DB00027</td>\n",
       "      <td>Gramicidin D</td>\n",
       "      <td>SmallMoleculeDrug</td>\n",
       "    </tr>\n",
       "    <tr>\n",
       "      <th>4</th>\n",
       "      <td>DB00035</td>\n",
       "      <td>Desmopressin</td>\n",
       "      <td>SmallMoleculeDrug</td>\n",
       "    </tr>\n",
       "  </tbody>\n",
       "</table>\n",
       "</div>"
      ],
      "text/plain": [
       "  DrugBank ID          Name          Drug Type\n",
       "0     DB00006   Bivalirudin  SmallMoleculeDrug\n",
       "1     DB00007    Leuprolide  SmallMoleculeDrug\n",
       "2     DB00014     Goserelin  SmallMoleculeDrug\n",
       "3     DB00027  Gramicidin D  SmallMoleculeDrug\n",
       "4     DB00035  Desmopressin  SmallMoleculeDrug"
      ]
     },
     "execution_count": 2,
     "metadata": {},
     "output_type": "execute_result"
    }
   ],
   "source": [
    "small_molecules = pd.read_csv(\"../data/RAW_datasets/RAW_drug_bank_small_molecules.csv\")\n",
    "small_molecules.head(5)"
   ]
  },
  {
   "cell_type": "markdown",
   "id": "f21238dc",
   "metadata": {},
   "source": [
    "We have 4 variables: the `DrugBank ID`, the `Name` of the Molecule and the `Drug Type`. Then we load our manually curated dataset generated in the first step. The small_molecules dataset has the shape/form:"
   ]
  },
  {
   "cell_type": "code",
   "execution_count": 3,
   "id": "5dd1b2d6",
   "metadata": {},
   "outputs": [
    {
     "name": "stdout",
     "output_type": "stream",
     "text": [
      "The small_molecules dataset retrieved from DB has the shape/form: (11912, 3)\n"
     ]
    }
   ],
   "source": [
    "print(f\"The small_molecules dataset retrieved from DB has the shape/form: {small_molecules.shape}\")"
   ]
  },
  {
   "cell_type": "markdown",
   "id": "0e6c1c81",
   "metadata": {},
   "source": [
    "So now we're going to merge the FDA but only the small molecules by `DrugBank ID` retrieved from DrugBank. We load he FDA (with the smiles and approved between 1997 and 2021)"
   ]
  },
  {
   "cell_type": "code",
   "execution_count": 4,
   "id": "05f43eb9",
   "metadata": {},
   "outputs": [
    {
     "data": {
      "text/html": [
       "<div>\n",
       "<style scoped>\n",
       "    .dataframe tbody tr th:only-of-type {\n",
       "        vertical-align: middle;\n",
       "    }\n",
       "\n",
       "    .dataframe tbody tr th {\n",
       "        vertical-align: top;\n",
       "    }\n",
       "\n",
       "    .dataframe thead th {\n",
       "        text-align: right;\n",
       "    }\n",
       "</style>\n",
       "<table border=\"1\" class=\"dataframe\">\n",
       "  <thead>\n",
       "    <tr style=\"text-align: right;\">\n",
       "      <th></th>\n",
       "      <th>Unnamed: 0</th>\n",
       "      <th>active_ingredient_moiety</th>\n",
       "      <th>nda_bla</th>\n",
       "      <th>approval_year</th>\n",
       "      <th>active</th>\n",
       "      <th>DrugBank ID</th>\n",
       "      <th>Drug Groups</th>\n",
       "      <th>SMILES</th>\n",
       "    </tr>\n",
       "  </thead>\n",
       "  <tbody>\n",
       "    <tr>\n",
       "      <th>0</th>\n",
       "      <td>0</td>\n",
       "      <td>troglitazone</td>\n",
       "      <td>NDA</td>\n",
       "      <td>1997</td>\n",
       "      <td>troglitazone</td>\n",
       "      <td>DB00197</td>\n",
       "      <td>approved; investigational; withdrawn</td>\n",
       "      <td>CC1=C(C)C2=C(CCC(C)(COC3=CC=C(CC4SC(=O)NC4=O)C...</td>\n",
       "    </tr>\n",
       "    <tr>\n",
       "      <th>1</th>\n",
       "      <td>1</td>\n",
       "      <td>imiquimod</td>\n",
       "      <td>NDA</td>\n",
       "      <td>1997</td>\n",
       "      <td>imiquimod</td>\n",
       "      <td>DB00724</td>\n",
       "      <td>approved; investigational</td>\n",
       "      <td>CC(C)CN1C=NC2=C1C1=C(C=CC=C1)N=C2N</td>\n",
       "    </tr>\n",
       "    <tr>\n",
       "      <th>2</th>\n",
       "      <td>2</td>\n",
       "      <td>anagrelide hydrochloride</td>\n",
       "      <td>NDA</td>\n",
       "      <td>1997</td>\n",
       "      <td>anagrelide</td>\n",
       "      <td>DB00261</td>\n",
       "      <td>approved</td>\n",
       "      <td>ClC1=CC=C2N=C3NC(=O)CN3CC2=C1Cl</td>\n",
       "    </tr>\n",
       "    <tr>\n",
       "      <th>3</th>\n",
       "      <td>3</td>\n",
       "      <td>nelfinavir mesylate</td>\n",
       "      <td>NDA</td>\n",
       "      <td>1997</td>\n",
       "      <td>nelfinavir</td>\n",
       "      <td>DB00220</td>\n",
       "      <td>approved</td>\n",
       "      <td>[H][C@@]12CCCC[C@]1([H])CN(C[C@@H](O)[C@H](CSC...</td>\n",
       "    </tr>\n",
       "    <tr>\n",
       "      <th>4</th>\n",
       "      <td>4</td>\n",
       "      <td>delavirdine mesylate</td>\n",
       "      <td>NDA</td>\n",
       "      <td>1997</td>\n",
       "      <td>delavirdine</td>\n",
       "      <td>DB00705</td>\n",
       "      <td>approved</td>\n",
       "      <td>CC(C)NC1=C(N=CC=C1)N1CCN(CC1)C(=O)C1=CC2=C(N1)...</td>\n",
       "    </tr>\n",
       "  </tbody>\n",
       "</table>\n",
       "</div>"
      ],
      "text/plain": [
       "   Unnamed: 0  active_ingredient_moiety nda_bla  approval_year        active  \\\n",
       "0           0              troglitazone     NDA           1997  troglitazone   \n",
       "1           1                 imiquimod     NDA           1997     imiquimod   \n",
       "2           2  anagrelide hydrochloride     NDA           1997    anagrelide   \n",
       "3           3       nelfinavir mesylate     NDA           1997    nelfinavir   \n",
       "4           4      delavirdine mesylate     NDA           1997   delavirdine   \n",
       "\n",
       "  DrugBank ID                           Drug Groups  \\\n",
       "0     DB00197  approved; investigational; withdrawn   \n",
       "1     DB00724             approved; investigational   \n",
       "2     DB00261                              approved   \n",
       "3     DB00220                              approved   \n",
       "4     DB00705                              approved   \n",
       "\n",
       "                                              SMILES  \n",
       "0  CC1=C(C)C2=C(CCC(C)(COC3=CC=C(CC4SC(=O)NC4=O)C...  \n",
       "1                 CC(C)CN1C=NC2=C1C1=C(C=CC=C1)N=C2N  \n",
       "2                    ClC1=CC=C2N=C3NC(=O)CN3CC2=C1Cl  \n",
       "3  [H][C@@]12CCCC[C@]1([H])CN(C[C@@H](O)[C@H](CSC...  \n",
       "4  CC(C)NC1=C(N=CC=C1)N1CCN(CC1)C(=O)C1=CC2=C(N1)...  "
      ]
     },
     "execution_count": 4,
     "metadata": {},
     "output_type": "execute_result"
    }
   ],
   "source": [
    "#final_fda = pd.read_excel(\"https://github.com/arturcgs/shared-side-projects/blob/main/_Lipinski/data/manually_curated_datasets/fda_approved_1997_2021_with_all_smiles.xlsx?raw=true\", sheet_name = \"fda_approved_97_21\")\n",
    "final_fda = pd.read_csv(\"../data/manually_curated_datasets/fda_approved_1997_2021_only_small_molecules.csv\")\n",
    "final_fda.head(5)"
   ]
  },
  {
   "cell_type": "markdown",
   "id": "8da328ac",
   "metadata": {},
   "source": [
    "We shall remove the `Unnamed: 0` variable because we have saved it to csv without the argument `\"index = False\"`"
   ]
  },
  {
   "cell_type": "code",
   "execution_count": 5,
   "id": "4a44c8a6",
   "metadata": {},
   "outputs": [
    {
     "name": "stdout",
     "output_type": "stream",
     "text": [
      "(565, 7)\n"
     ]
    },
    {
     "data": {
      "text/html": [
       "<div>\n",
       "<style scoped>\n",
       "    .dataframe tbody tr th:only-of-type {\n",
       "        vertical-align: middle;\n",
       "    }\n",
       "\n",
       "    .dataframe tbody tr th {\n",
       "        vertical-align: top;\n",
       "    }\n",
       "\n",
       "    .dataframe thead th {\n",
       "        text-align: right;\n",
       "    }\n",
       "</style>\n",
       "<table border=\"1\" class=\"dataframe\">\n",
       "  <thead>\n",
       "    <tr style=\"text-align: right;\">\n",
       "      <th></th>\n",
       "      <th>active_ingredient_moiety</th>\n",
       "      <th>nda_bla</th>\n",
       "      <th>approval_year</th>\n",
       "      <th>active</th>\n",
       "      <th>DrugBank ID</th>\n",
       "      <th>Drug Groups</th>\n",
       "      <th>SMILES</th>\n",
       "    </tr>\n",
       "  </thead>\n",
       "  <tbody>\n",
       "    <tr>\n",
       "      <th>0</th>\n",
       "      <td>troglitazone</td>\n",
       "      <td>NDA</td>\n",
       "      <td>1997</td>\n",
       "      <td>troglitazone</td>\n",
       "      <td>DB00197</td>\n",
       "      <td>approved; investigational; withdrawn</td>\n",
       "      <td>CC1=C(C)C2=C(CCC(C)(COC3=CC=C(CC4SC(=O)NC4=O)C...</td>\n",
       "    </tr>\n",
       "    <tr>\n",
       "      <th>1</th>\n",
       "      <td>imiquimod</td>\n",
       "      <td>NDA</td>\n",
       "      <td>1997</td>\n",
       "      <td>imiquimod</td>\n",
       "      <td>DB00724</td>\n",
       "      <td>approved; investigational</td>\n",
       "      <td>CC(C)CN1C=NC2=C1C1=C(C=CC=C1)N=C2N</td>\n",
       "    </tr>\n",
       "    <tr>\n",
       "      <th>2</th>\n",
       "      <td>anagrelide hydrochloride</td>\n",
       "      <td>NDA</td>\n",
       "      <td>1997</td>\n",
       "      <td>anagrelide</td>\n",
       "      <td>DB00261</td>\n",
       "      <td>approved</td>\n",
       "      <td>ClC1=CC=C2N=C3NC(=O)CN3CC2=C1Cl</td>\n",
       "    </tr>\n",
       "    <tr>\n",
       "      <th>3</th>\n",
       "      <td>nelfinavir mesylate</td>\n",
       "      <td>NDA</td>\n",
       "      <td>1997</td>\n",
       "      <td>nelfinavir</td>\n",
       "      <td>DB00220</td>\n",
       "      <td>approved</td>\n",
       "      <td>[H][C@@]12CCCC[C@]1([H])CN(C[C@@H](O)[C@H](CSC...</td>\n",
       "    </tr>\n",
       "    <tr>\n",
       "      <th>4</th>\n",
       "      <td>delavirdine mesylate</td>\n",
       "      <td>NDA</td>\n",
       "      <td>1997</td>\n",
       "      <td>delavirdine</td>\n",
       "      <td>DB00705</td>\n",
       "      <td>approved</td>\n",
       "      <td>CC(C)NC1=C(N=CC=C1)N1CCN(CC1)C(=O)C1=CC2=C(N1)...</td>\n",
       "    </tr>\n",
       "  </tbody>\n",
       "</table>\n",
       "</div>"
      ],
      "text/plain": [
       "   active_ingredient_moiety nda_bla  approval_year        active DrugBank ID  \\\n",
       "0              troglitazone     NDA           1997  troglitazone     DB00197   \n",
       "1                 imiquimod     NDA           1997     imiquimod     DB00724   \n",
       "2  anagrelide hydrochloride     NDA           1997    anagrelide     DB00261   \n",
       "3       nelfinavir mesylate     NDA           1997    nelfinavir     DB00220   \n",
       "4      delavirdine mesylate     NDA           1997   delavirdine     DB00705   \n",
       "\n",
       "                            Drug Groups  \\\n",
       "0  approved; investigational; withdrawn   \n",
       "1             approved; investigational   \n",
       "2                              approved   \n",
       "3                              approved   \n",
       "4                              approved   \n",
       "\n",
       "                                              SMILES  \n",
       "0  CC1=C(C)C2=C(CCC(C)(COC3=CC=C(CC4SC(=O)NC4=O)C...  \n",
       "1                 CC(C)CN1C=NC2=C1C1=C(C=CC=C1)N=C2N  \n",
       "2                    ClC1=CC=C2N=C3NC(=O)CN3CC2=C1Cl  \n",
       "3  [H][C@@]12CCCC[C@]1([H])CN(C[C@@H](O)[C@H](CSC...  \n",
       "4  CC(C)NC1=C(N=CC=C1)N1CCN(CC1)C(=O)C1=CC2=C(N1)...  "
      ]
     },
     "execution_count": 5,
     "metadata": {},
     "output_type": "execute_result"
    }
   ],
   "source": [
    "final_fda = final_fda.drop(\"Unnamed: 0\", axis = 1)\n",
    "print(final_fda.shape)\n",
    "final_fda.head(5)"
   ]
  },
  {
   "cell_type": "markdown",
   "id": "5374d05a",
   "metadata": {},
   "source": [
    "We then remove the structures that do not have `DrugBank IDs` in our dataset:"
   ]
  },
  {
   "cell_type": "code",
   "execution_count": 6,
   "id": "0d82bae7",
   "metadata": {},
   "outputs": [
    {
     "name": "stdout",
     "output_type": "stream",
     "text": [
      "Before removal of the NA rows of DrugBank IDs, the final_fda dataframe has: (565, 7)\n",
      "\n",
      "\n",
      "After the removal of the NA rows, we're left with: (563, 7)\n"
     ]
    }
   ],
   "source": [
    "print(f\"Before removal of the NA rows of DrugBank IDs, the final_fda dataframe has: {final_fda.shape}\\n\")\n",
    "final_fda = final_fda[~final_fda[\"DrugBank ID\"].isna()]\n",
    "print(f\"\\nAfter the removal of the NA rows, we're left with: {final_fda.shape}\")"
   ]
  },
  {
   "cell_type": "markdown",
   "id": "f909d763",
   "metadata": {},
   "source": [
    "There is only two lines that do not have any SMILES: <b>fish oil triglycerides</b>, <b>air polymer-type A</b>;\n",
    "Merging the two datasets based on DrugBank IDs so we're left only with the small_molecules"
   ]
  },
  {
   "cell_type": "code",
   "execution_count": 7,
   "id": "b9736ab2",
   "metadata": {},
   "outputs": [
    {
     "name": "stdout",
     "output_type": "stream",
     "text": [
      "After merging the two datasets with: (563, 9)\n"
     ]
    }
   ],
   "source": [
    "final_fda_only_small = pd.merge(final_fda, small_molecules, how = \"left\", on = \"DrugBank ID\")\n",
    "final_fda_only_small.head(5)\n",
    "print(f\"After merging the two datasets with: {final_fda_only_small.shape}\")"
   ]
  },
  {
   "cell_type": "markdown",
   "id": "6ab341d1",
   "metadata": {},
   "source": [
    "Checking the not found \"Drug Type\" column (about 9 structures are found NA):"
   ]
  },
  {
   "cell_type": "code",
   "execution_count": 8,
   "id": "c196d9ba",
   "metadata": {},
   "outputs": [
    {
     "data": {
      "text/html": [
       "<div>\n",
       "<style scoped>\n",
       "    .dataframe tbody tr th:only-of-type {\n",
       "        vertical-align: middle;\n",
       "    }\n",
       "\n",
       "    .dataframe tbody tr th {\n",
       "        vertical-align: top;\n",
       "    }\n",
       "\n",
       "    .dataframe thead th {\n",
       "        text-align: right;\n",
       "    }\n",
       "</style>\n",
       "<table border=\"1\" class=\"dataframe\">\n",
       "  <thead>\n",
       "    <tr style=\"text-align: right;\">\n",
       "      <th></th>\n",
       "      <th>active_ingredient_moiety</th>\n",
       "      <th>nda_bla</th>\n",
       "      <th>approval_year</th>\n",
       "      <th>active</th>\n",
       "      <th>DrugBank ID</th>\n",
       "      <th>Drug Groups</th>\n",
       "      <th>SMILES</th>\n",
       "      <th>Name</th>\n",
       "      <th>Drug Type</th>\n",
       "    </tr>\n",
       "  </thead>\n",
       "  <tbody>\n",
       "    <tr>\n",
       "      <th>530</th>\n",
       "      <td>eptifibatide</td>\n",
       "      <td>NDA</td>\n",
       "      <td>1998</td>\n",
       "      <td>eptifibatide</td>\n",
       "      <td>DB00063</td>\n",
       "      <td>approved; investigational</td>\n",
       "      <td>NC(N)=NCCCCC1NC(=O)CCSSCC(NC(=O)C2CCCN2C(=O)C(...</td>\n",
       "      <td>NaN</td>\n",
       "      <td>NaN</td>\n",
       "    </tr>\n",
       "    <tr>\n",
       "      <th>531</th>\n",
       "      <td>fomivirsen sodium</td>\n",
       "      <td>NDA</td>\n",
       "      <td>1998</td>\n",
       "      <td>fomivirsen</td>\n",
       "      <td>DB06759</td>\n",
       "      <td>approved; investigational; withdrawn</td>\n",
       "      <td>CC1=CN([C@H]2C[C@H](O[P](O)(=S)OC[C@H]3O[C@H](...</td>\n",
       "      <td>NaN</td>\n",
       "      <td>NaN</td>\n",
       "    </tr>\n",
       "    <tr>\n",
       "      <th>537</th>\n",
       "      <td>unoprostone isopropyl</td>\n",
       "      <td>NDA</td>\n",
       "      <td>2000</td>\n",
       "      <td>unoprostone isopropyl</td>\n",
       "      <td>DBSALT001760</td>\n",
       "      <td>approved</td>\n",
       "      <td>CCCCCCCC(=O)CC[C@H]1[C@@H](C[C@@H]([C@@H]1C/C=...</td>\n",
       "      <td>NaN</td>\n",
       "      <td>NaN</td>\n",
       "    </tr>\n",
       "    <tr>\n",
       "      <th>539</th>\n",
       "      <td>cefditoren pivoxil</td>\n",
       "      <td>NDA</td>\n",
       "      <td>2001</td>\n",
       "      <td>cefditoren pivoxil</td>\n",
       "      <td>DBSALT001811</td>\n",
       "      <td>approved</td>\n",
       "      <td>[H][C@]12SCC(\\C=C/C3=C(C)N=CS3)=C(N1C(=O)[C@H]...</td>\n",
       "      <td>NaN</td>\n",
       "      <td>NaN</td>\n",
       "    </tr>\n",
       "    <tr>\n",
       "      <th>543</th>\n",
       "      <td>enfuvirtide</td>\n",
       "      <td>NDA</td>\n",
       "      <td>2003</td>\n",
       "      <td>enfuvirtide</td>\n",
       "      <td>DB00109</td>\n",
       "      <td>approved; investigational</td>\n",
       "      <td>CC[C@H](C)[C@H](NC(=O)[C@H](CC(C)C)NC(=O)[C@H]...</td>\n",
       "      <td>NaN</td>\n",
       "      <td>NaN</td>\n",
       "    </tr>\n",
       "    <tr>\n",
       "      <th>544</th>\n",
       "      <td>pentetate calcium trisodium</td>\n",
       "      <td>NDA</td>\n",
       "      <td>2004</td>\n",
       "      <td>pentetate</td>\n",
       "      <td>DB06806</td>\n",
       "      <td>approved</td>\n",
       "      <td>[O-]C(=O)CN(CCN(CC([O-])=O)CC([O-])=O)CCN(CC([...</td>\n",
       "      <td>NaN</td>\n",
       "      <td>NaN</td>\n",
       "    </tr>\n",
       "    <tr>\n",
       "      <th>549</th>\n",
       "      <td>pegaptanib sodium</td>\n",
       "      <td>NDA</td>\n",
       "      <td>2004</td>\n",
       "      <td>pegaptanib</td>\n",
       "      <td>DB04895</td>\n",
       "      <td>approved</td>\n",
       "      <td>COCCOC(=O)NCCCC[C@@H](C(=O)NCCCCCCCOP(=O)(C)O)...</td>\n",
       "      <td>NaN</td>\n",
       "      <td>NaN</td>\n",
       "    </tr>\n",
       "  </tbody>\n",
       "</table>\n",
       "</div>"
      ],
      "text/plain": [
       "        active_ingredient_moiety nda_bla  approval_year  \\\n",
       "530                 eptifibatide     NDA           1998   \n",
       "531            fomivirsen sodium     NDA           1998   \n",
       "537        unoprostone isopropyl     NDA           2000   \n",
       "539           cefditoren pivoxil     NDA           2001   \n",
       "543                  enfuvirtide     NDA           2003   \n",
       "544  pentetate calcium trisodium     NDA           2004   \n",
       "549            pegaptanib sodium     NDA           2004   \n",
       "\n",
       "                    active   DrugBank ID  \\\n",
       "530           eptifibatide       DB00063   \n",
       "531             fomivirsen       DB06759   \n",
       "537  unoprostone isopropyl  DBSALT001760   \n",
       "539     cefditoren pivoxil  DBSALT001811   \n",
       "543            enfuvirtide       DB00109   \n",
       "544              pentetate       DB06806   \n",
       "549             pegaptanib       DB04895   \n",
       "\n",
       "                              Drug Groups  \\\n",
       "530             approved; investigational   \n",
       "531  approved; investigational; withdrawn   \n",
       "537                              approved   \n",
       "539                              approved   \n",
       "543             approved; investigational   \n",
       "544                              approved   \n",
       "549                              approved   \n",
       "\n",
       "                                                SMILES Name Drug Type  \n",
       "530  NC(N)=NCCCCC1NC(=O)CCSSCC(NC(=O)C2CCCN2C(=O)C(...  NaN       NaN  \n",
       "531  CC1=CN([C@H]2C[C@H](O[P](O)(=S)OC[C@H]3O[C@H](...  NaN       NaN  \n",
       "537  CCCCCCCC(=O)CC[C@H]1[C@@H](C[C@@H]([C@@H]1C/C=...  NaN       NaN  \n",
       "539  [H][C@]12SCC(\\C=C/C3=C(C)N=CS3)=C(N1C(=O)[C@H]...  NaN       NaN  \n",
       "543  CC[C@H](C)[C@H](NC(=O)[C@H](CC(C)C)NC(=O)[C@H]...  NaN       NaN  \n",
       "544  [O-]C(=O)CN(CCN(CC([O-])=O)CC([O-])=O)CCN(CC([...  NaN       NaN  \n",
       "549  COCCOC(=O)NCCCC[C@@H](C(=O)NCCCCCCCOP(=O)(C)O)...  NaN       NaN  "
      ]
     },
     "execution_count": 8,
     "metadata": {},
     "output_type": "execute_result"
    }
   ],
   "source": [
    "final_fda_only_small[final_fda_only_small[\"Drug Type\"].isna()]"
   ]
  },
  {
   "cell_type": "code",
   "execution_count": 9,
   "id": "ea2d441c",
   "metadata": {},
   "outputs": [
    {
     "data": {
      "text/plain": [
       "(563, 9)"
      ]
     },
     "execution_count": 9,
     "metadata": {},
     "output_type": "execute_result"
    }
   ],
   "source": [
    "final_fda_only_small.shape"
   ]
  },
  {
   "cell_type": "markdown",
   "id": "458ee3e1",
   "metadata": {},
   "source": [
    "Now we remove the weird molecules we have seen manually."
   ]
  },
  {
   "cell_type": "code",
   "execution_count": 10,
   "id": "8decea9d",
   "metadata": {},
   "outputs": [],
   "source": [
    "biological_to_remove = [531, 543, 549]\n",
    "final_fda_only_small.drop(biological_to_remove, axis = 0, inplace = True)"
   ]
  },
  {
   "cell_type": "code",
   "execution_count": 11,
   "id": "46b2f341",
   "metadata": {},
   "outputs": [
    {
     "data": {
      "text/plain": [
       "(560, 9)"
      ]
     },
     "execution_count": 11,
     "metadata": {},
     "output_type": "execute_result"
    }
   ],
   "source": [
    "final_fda_only_small.shape"
   ]
  },
  {
   "cell_type": "markdown",
   "id": "98c0d56e",
   "metadata": {},
   "source": [
    "Dropping the non small molecules of our final dataset:"
   ]
  },
  {
   "cell_type": "code",
   "execution_count": 12,
   "id": "9f71ae3e",
   "metadata": {},
   "outputs": [],
   "source": [
    "final_fda_only_small.reset_index(inplace = True)"
   ]
  },
  {
   "cell_type": "markdown",
   "id": "a4cd2f7d",
   "metadata": {},
   "source": [
    "Now we finally filter the biological tagged ones by sanity check:"
   ]
  },
  {
   "cell_type": "code",
   "execution_count": 13,
   "id": "e0e52597",
   "metadata": {},
   "outputs": [
    {
     "name": "stdout",
     "output_type": "stream",
     "text": [
      "The shape of the final csv with only small molecules curated has the shape: (560, 10)\n"
     ]
    }
   ],
   "source": [
    "print(f'The shape of the final csv with only small molecules curated has the shape: {final_fda_only_small.shape}')"
   ]
  },
  {
   "cell_type": "code",
   "execution_count": 14,
   "id": "f6aced69",
   "metadata": {},
   "outputs": [
    {
     "name": "stdout",
     "output_type": "stream",
     "text": [
      "The shape of the final csv is: (560, 10)\n"
     ]
    }
   ],
   "source": [
    "filters = final_fda_only_small[\"Drug Groups\"].str.contains(pat = \"biological|polymer\")\n",
    "final_fda_only_small[~filters].reset_index(drop = True)\n",
    "print(f\"The shape of the final csv is: {final_fda_only_small.shape}\")\n",
    "#saving the file\n",
    "final_fda_only_small.to_csv(\"../data/manually_curated_datasets/fda_small_molecules_smiles.csv\")"
   ]
  }
 ],
 "metadata": {
  "kernelspec": {
   "display_name": "Python 3 (ipykernel)",
   "language": "python",
   "name": "python3"
  },
  "language_info": {
   "codemirror_mode": {
    "name": "ipython",
    "version": 3
   },
   "file_extension": ".py",
   "mimetype": "text/x-python",
   "name": "python",
   "nbconvert_exporter": "python",
   "pygments_lexer": "ipython3",
   "version": "3.10.4"
  }
 },
 "nbformat": 4,
 "nbformat_minor": 5
}
